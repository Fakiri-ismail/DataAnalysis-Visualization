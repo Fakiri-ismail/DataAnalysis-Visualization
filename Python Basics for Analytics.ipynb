{
 "cells": [
  {
   "cell_type": "markdown",
   "id": "proper-trustee",
   "metadata": {},
   "source": [
    "# Python Basics for Analytics"
   ]
  },
  {
   "cell_type": "markdown",
   "id": "czech-adrian",
   "metadata": {},
   "source": [
    "## Sorted() & zip()"
   ]
  },
  {
   "cell_type": "code",
   "execution_count": 46,
   "id": "earlier-tuition",
   "metadata": {},
   "outputs": [
    {
     "name": "stdout",
     "output_type": "stream",
     "text": [
      "-----sorted()------\n",
      "[-33, -5, -1, 3]\n",
      "[-33, -5, 3, -1]\n",
      "-----zip()------\n",
      "[(-1, 'x'), (-5, 'y'), (3, 'z'), (-33, 't')]\n",
      "(-1, -5, 3, -33) ('x', 'y', 'z', 't')\n"
     ]
    }
   ],
   "source": [
    "a = [-1, -5, 3, -33]\n",
    "b = ['x', 'y', 'z', 't']\n",
    "\n",
    "print(\"-----sorted()------\")\n",
    "print(sorted(a))\n",
    "print(sorted(a, key=abs, reverse=True))\n",
    "\n",
    "print(\"-----zip()------\")\n",
    "z = list(zip(a, b))\n",
    "print(z)\n",
    "\n",
    "c, d = zip(*z)\n",
    "print(c, d)"
   ]
  },
  {
   "cell_type": "markdown",
   "id": "military-swing",
   "metadata": {},
   "source": [
    "## Numpy"
   ]
  },
  {
   "cell_type": "code",
   "execution_count": 55,
   "id": "located-turtle",
   "metadata": {},
   "outputs": [
    {
     "name": "stdout",
     "output_type": "stream",
     "text": [
      "-----rand()------\n",
      "0.7316961330873843\n",
      "----\n",
      "[[0.54876532 0.66840215]\n",
      " [0.98741047 0.33870392]\n",
      " [0.5936519  0.20722547]]\n",
      "-----randint()------\n",
      "[13 12]\n",
      "----\n",
      "[[ 6 12]\n",
      " [13  5]\n",
      " [11  8]]\n",
      "-----choice()------\n",
      "[4 3 2 1 5 4 2 4 4 2]\n",
      "----\n",
      "[1 3 4]\n",
      "-----shuffle()------\n",
      "[3 5 2 4 1]\n"
     ]
    }
   ],
   "source": [
    "import numpy as np\n",
    "\n",
    "print(\"-----rand()------\")\n",
    "print(np.random.rand())    # Generage a single random number in range [0,1)\n",
    "print(\"----\")\n",
    "print(np.random.rand(3,2)) # Generate a matrix of random numbers in range [0,1) with shape (3,2)\n",
    "\n",
    "print(\"-----randint()------\")\n",
    "print(np.random.randint(5, 15, 2))\n",
    "print(\"----\")\n",
    "print(np.random.randint(5, 15, (3,2)))\n",
    "\n",
    "print(\"-----choice()------\")\n",
    "array = np.array([1,2,3,4,5]) \n",
    "print(np.random.choice(array, 10, replace=True)) # replace=True means the same value can be sampled more than once\n",
    "print(\"----\")\n",
    "print(np.random.choice(array, 3, replace=False)) # replace=False means the same value can’t be sampled more than once\n",
    "\n",
    "print(\"-----shuffle()------\")\n",
    "np.random.shuffle(array)\n",
    "print(array)"
   ]
  },
  {
   "cell_type": "markdown",
   "id": "exact-parish",
   "metadata": {},
   "source": [
    "## Scipy"
   ]
  },
  {
   "cell_type": "code",
   "execution_count": 8,
   "id": "finnish-aside",
   "metadata": {},
   "outputs": [
    {
     "name": "stdout",
     "output_type": "stream",
     "text": [
      "----- stats.pearsonr() => Correlation ------\n",
      "(0.9999999999999999, 1.8488927466117464e-32) \n",
      "\n",
      "----- Generating samples (des échantillons) ------\n",
      "[  0.93600722   9.64268932 -17.76904533  -1.31056124   1.57372967\n",
      "  -4.9847607   -3.7819764   -8.05658937   2.77448078   2.28085689] \n",
      "\n",
      "----- Probability density function ------\n",
      "7.69459862670642e-24 0.03989422804014327 \n",
      "\n",
      "----- Cumulative distribution function ------\n",
      "0.5 \n",
      "\n",
      "----- Calculating descriptive statistics ------\n",
      "DescribeResult(nobs=500, minmax=(-3.4581696251964007, 2.8466736796806162), mean=-0.0046552576858826565, variance=0.9765453476087166, skewness=-0.08368241334586721, kurtosis=0.06634940504223596)\n"
     ]
    }
   ],
   "source": [
    "from scipy import stats\n",
    "import numpy as np\n",
    "\n",
    "array_1 = np.array([1,2,3,4,5,6])\n",
    "array_2 = array_1\n",
    "\n",
    "print(\"----- stats.pearsonr() => Correlation ------\")\n",
    "print(stats.pearsonr(array_1, array_2), '\\n') # return (Correlation, p-value)\n",
    "\n",
    "print(\"----- Generating samples (des échantillons) ------\")\n",
    "# Generate 10 values randomly sampled from a normal distribution with mean = 0 and standard deviation (ecart-type) = 10\n",
    "x = stats.norm.rvs(loc=0, scale=10, size=10)  \n",
    "print(x, '\\n')\n",
    "\n",
    "print(\"----- Probability density function ------\")\n",
    "p1 = stats.norm.pdf(x=-100, loc=0, scale=10)  # Get probability of sampling a value of -100\n",
    "p2 = stats.norm.pdf(x=0, loc=0, scale=10)     # Get probability of sampling a value of 0\n",
    "print(p1, p2, '\\n')\n",
    "\n",
    "print(\"----- Cumulative distribution function ------\")\n",
    "p3 = stats.norm.cdf(x=0, loc=0, scale=10)     # Get probability of sampling a value less than or equal to 0\n",
    "print(p3, '\\n')\n",
    "\n",
    "print(\"----- Calculating descriptive statistics ------\")\n",
    "# Calculate descriptive statistics for 500 data points sampled from normal distribution with mean 0 and standard deviation of 1\n",
    "print(stats.describe(stats.norm.rvs(loc=0, scale=1, size=500)))"
   ]
  },
  {
   "cell_type": "markdown",
   "id": "freelance-fleet",
   "metadata": {},
   "source": [
    "## Pandas"
   ]
  },
  {
   "cell_type": "code",
   "execution_count": 6,
   "id": "smaller-connection",
   "metadata": {},
   "outputs": [
    {
     "name": "stdout",
     "output_type": "stream",
     "text": [
      "----- statistics on data ------\n",
      "count    32561.000000\n",
      "mean        38.581647\n",
      "std         13.640433\n",
      "min         17.000000\n",
      "25%         28.000000\n",
      "50%         37.000000\n",
      "75%         48.000000\n",
      "max         90.000000\n",
      "Name: age, dtype: float64 \n",
      "\n",
      "----- Finding the data types ------\n",
      "<class 'pandas.core.frame.DataFrame'>\n",
      "RangeIndex: 32561 entries, 0 to 32560\n",
      "Data columns (total 15 columns):\n",
      " #   Column         Non-Null Count  Dtype \n",
      "---  ------         --------------  ----- \n",
      " 0   age            32561 non-null  int64 \n",
      " 1   workclass      32561 non-null  object\n",
      " 2   fnlwgt         32561 non-null  int64 \n",
      " 3   education      32561 non-null  object\n",
      " 4   educationnum   32561 non-null  int64 \n",
      " 5   maritalstatus  32561 non-null  object\n",
      " 6   occupation     32561 non-null  object\n",
      " 7   relationship   32561 non-null  object\n",
      " 8   race           32561 non-null  object\n",
      " 9   sex            32561 non-null  object\n",
      " 10  capitalgain    32561 non-null  int64 \n",
      " 11  capitalloss    32561 non-null  int64 \n",
      " 12  hoursperweek   32561 non-null  int64 \n",
      " 13  nativecountry  32561 non-null  object\n",
      " 14  label          32561 non-null  object\n",
      "dtypes: int64(6), object(9)\n",
      "memory usage: 3.7+ MB\n",
      "None \n",
      "\n"
     ]
    }
   ],
   "source": [
    "import pandas as pd\n",
    "names = ['age', 'workclass', 'fnlwgt', 'education', 'educationnum', 'maritalstatus', 'occupation', 'relationship', 'race',\n",
    "        'sex', 'capitalgain', 'capitalloss', 'hoursperweek', 'nativecountry', 'label']\n",
    "train_df = pd.read_csv(\"Data/adult.data\", header=None, names=names)\n",
    "\n",
    "print(\"----- statistics on data ------\")\n",
    "print(train_df.describe()['age'], '\\n')\n",
    "\n",
    "print(\"----- Finding the data types ------\")\n",
    "print(train_df.info(), '\\n')"
   ]
  },
  {
   "cell_type": "code",
   "execution_count": 34,
   "id": "severe-sequence",
   "metadata": {},
   "outputs": [
    {
     "name": "stdout",
     "output_type": "stream",
     "text": [
      "----- Converting data types ------\n",
      "<class 'str'> \n",
      "\n",
      "----- Unique values ------\n",
      "[' Not-in-family' ' Husband' ' Wife' ' Own-child' ' Unmarried'\n",
      " ' Other-relative']\n",
      " Husband           13193\n",
      " Not-in-family      8305\n",
      " Own-child          5068\n",
      " Unmarried          3446\n",
      " Wife               1568\n",
      " Other-relative      981\n",
      "Name: relationship, dtype: int64 \n",
      "\n",
      "----- Grouping the data ------\n",
      "relationship     label \n",
      " Husband          <=50K    0.551429\n",
      "                  >50K     0.448571\n",
      " Not-in-family    <=50K    0.896930\n",
      "                  >50K     0.103070\n",
      " Other-relative   <=50K    0.962283\n",
      "                  >50K     0.037717\n",
      " Own-child        <=50K    0.986780\n",
      "                  >50K     0.013220\n",
      " Unmarried        <=50K    0.936738\n",
      "                  >50K     0.063262\n",
      " Wife             <=50K    0.524872\n",
      "                  >50K     0.475128\n",
      "Name: label, dtype: float64 \n",
      "\n",
      "workclass\n",
      " ?                   31.919390\n",
      " Federal-gov         41.379167\n",
      " Local-gov           40.982800\n",
      " Never-worked        28.428571\n",
      " Private             40.267096\n",
      " Self-emp-inc        48.818100\n",
      " Self-emp-not-inc    44.421881\n",
      " State-gov           39.031587\n",
      " Without-pay         32.714286\n",
      "Name: hoursperweek, dtype: float64 \n",
      "\n",
      "----- Finding the correlation ------\n",
      "                fnlwgt  educationnum  capitalgain  capitalloss  hoursperweek\n",
      "fnlwgt        1.000000     -0.043195     0.000432    -0.010252     -0.018768\n",
      "educationnum -0.043195      1.000000     0.122630     0.079923      0.148123\n",
      "capitalgain   0.000432      0.122630     1.000000    -0.031615      0.078409\n",
      "capitalloss  -0.010252      0.079923    -0.031615     1.000000      0.054256\n",
      "hoursperweek -0.018768      0.148123     0.078409     0.054256      1.000000\n"
     ]
    }
   ],
   "source": [
    "print(\"----- Converting data types ------\")\n",
    "# to_numeric()    to_datetime()    to_string()\n",
    "train_df['age'] = train_df['age'].astype(str)\n",
    "print(type(train_df['age'][0]), '\\n')\n",
    "\n",
    "print(\"----- Unique values ------\")\n",
    "print(train_df['relationship'].unique())\n",
    "print(train_df['relationship'].value_counts(), '\\n')\n",
    "\n",
    "print(\"----- Grouping the data ------\")\n",
    "print(train_df.groupby('relationship')['label'].value_counts(normalize=True), '\\n')\n",
    "print(train_df.groupby(['workclass'])['hoursperweek'].mean(), '\\n')\n",
    "\n",
    "print(\"----- Finding the correlation ------\")\n",
    "print(train_df.corr())"
   ]
  }
 ],
 "metadata": {
  "kernelspec": {
   "display_name": "Python 3",
   "language": "python",
   "name": "python3"
  },
  "language_info": {
   "codemirror_mode": {
    "name": "ipython",
    "version": 3
   },
   "file_extension": ".py",
   "mimetype": "text/x-python",
   "name": "python",
   "nbconvert_exporter": "python",
   "pygments_lexer": "ipython3",
   "version": "3.7.4"
  }
 },
 "nbformat": 4,
 "nbformat_minor": 5
}
