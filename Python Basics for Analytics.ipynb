{
 "cells": [
  {
   "cell_type": "markdown",
   "id": "proper-trustee",
   "metadata": {},
   "source": [
    "# Python Basics for Analytics"
   ]
  },
  {
   "cell_type": "markdown",
   "id": "czech-adrian",
   "metadata": {},
   "source": [
    "## Sorted() & zip()"
   ]
  },
  {
   "cell_type": "code",
   "execution_count": 46,
   "id": "earlier-tuition",
   "metadata": {},
   "outputs": [
    {
     "name": "stdout",
     "output_type": "stream",
     "text": [
      "-----sorted()------\n",
      "[-33, -5, -1, 3]\n",
      "[-33, -5, 3, -1]\n",
      "-----zip()------\n",
      "[(-1, 'x'), (-5, 'y'), (3, 'z'), (-33, 't')]\n",
      "(-1, -5, 3, -33) ('x', 'y', 'z', 't')\n"
     ]
    }
   ],
   "source": [
    "a = [-1, -5, 3, -33]\n",
    "b = ['x', 'y', 'z', 't']\n",
    "\n",
    "print(\"-----sorted()------\")\n",
    "print(sorted(a))\n",
    "print(sorted(a, key=abs, reverse=True))\n",
    "\n",
    "print(\"-----zip()------\")\n",
    "z = list(zip(a, b))\n",
    "print(z)\n",
    "\n",
    "c, d = zip(*z)\n",
    "print(c, d)"
   ]
  },
  {
   "cell_type": "markdown",
   "id": "military-swing",
   "metadata": {},
   "source": [
    "## Numpy"
   ]
  },
  {
   "cell_type": "code",
   "execution_count": 55,
   "id": "located-turtle",
   "metadata": {},
   "outputs": [
    {
     "name": "stdout",
     "output_type": "stream",
     "text": [
      "-----rand()------\n",
      "0.7316961330873843\n",
      "----\n",
      "[[0.54876532 0.66840215]\n",
      " [0.98741047 0.33870392]\n",
      " [0.5936519  0.20722547]]\n",
      "-----randint()------\n",
      "[13 12]\n",
      "----\n",
      "[[ 6 12]\n",
      " [13  5]\n",
      " [11  8]]\n",
      "-----choice()------\n",
      "[4 3 2 1 5 4 2 4 4 2]\n",
      "----\n",
      "[1 3 4]\n",
      "-----shuffle()------\n",
      "[3 5 2 4 1]\n"
     ]
    }
   ],
   "source": [
    "import numpy as np\n",
    "\n",
    "print(\"-----rand()------\")\n",
    "print(np.random.rand())    # Generage a single random number in range [0,1)\n",
    "print(\"----\")\n",
    "print(np.random.rand(3,2)) # Generate a matrix of random numbers in range [0,1) with shape (3,2)\n",
    "\n",
    "print(\"-----randint()------\")\n",
    "print(np.random.randint(5, 15, 2))\n",
    "print(\"----\")\n",
    "print(np.random.randint(5, 15, (3,2)))\n",
    "\n",
    "print(\"-----choice()------\")\n",
    "array = np.array([1,2,3,4,5]) \n",
    "print(np.random.choice(array, 10, replace=True)) # replace=True means the same value can be sampled more than once\n",
    "print(\"----\")\n",
    "print(np.random.choice(array, 3, replace=False)) # replace=False means the same value can’t be sampled more than once\n",
    "\n",
    "print(\"-----shuffle()------\")\n",
    "np.random.shuffle(array)\n",
    "print(array)"
   ]
  },
  {
   "cell_type": "markdown",
   "id": "exact-parish",
   "metadata": {},
   "source": [
    "## Scipy"
   ]
  },
  {
   "cell_type": "code",
   "execution_count": null,
   "id": "finnish-aside",
   "metadata": {},
   "outputs": [],
   "source": []
  }
 ],
 "metadata": {
  "kernelspec": {
   "display_name": "Python 3",
   "language": "python",
   "name": "python3"
  },
  "language_info": {
   "codemirror_mode": {
    "name": "ipython",
    "version": 3
   },
   "file_extension": ".py",
   "mimetype": "text/x-python",
   "name": "python",
   "nbconvert_exporter": "python",
   "pygments_lexer": "ipython3",
   "version": "3.7.4"
  }
 },
 "nbformat": 4,
 "nbformat_minor": 5
}
