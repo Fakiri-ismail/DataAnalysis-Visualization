{
 "cells": [
  {
   "cell_type": "markdown",
   "id": "proper-trustee",
   "metadata": {},
   "source": [
    "# Python Basics for Analytics"
   ]
  },
  {
   "cell_type": "markdown",
   "id": "czech-adrian",
   "metadata": {},
   "source": [
    "## Sorted() & zip()"
   ]
  },
  {
   "cell_type": "code",
   "execution_count": 1,
   "id": "earlier-tuition",
   "metadata": {},
   "outputs": [
    {
     "name": "stdout",
     "output_type": "stream",
     "text": [
      "-----sorted()------\n",
      "[-33, -5, -1, 3]\n",
      "[-33, -5, 3, -1]\n",
      "-----zip()------\n",
      "[(-1, 'x'), (-5, 'y'), (3, 'z'), (-33, 't')]\n",
      "(-1, -5, 3, -33) ('x', 'y', 'z', 't')\n"
     ]
    }
   ],
   "source": [
    "a = [-1, -5, 3, -33]\n",
    "b = ['x', 'y', 'z', 't']\n",
    "\n",
    "print(\"-----sorted()------\")\n",
    "print(sorted(a))\n",
    "print(sorted(a, key=abs, reverse=True))\n",
    "\n",
    "print(\"-----zip()------\")\n",
    "z = list(zip(a, b))\n",
    "print(z)\n",
    "\n",
    "c, d = zip(*z)\n",
    "print(c, d)"
   ]
  },
  {
   "cell_type": "markdown",
   "id": "military-swing",
   "metadata": {},
   "source": [
    "## Numpy"
   ]
  },
  {
   "cell_type": "code",
   "execution_count": 2,
   "id": "located-turtle",
   "metadata": {},
   "outputs": [
    {
     "name": "stdout",
     "output_type": "stream",
     "text": [
      "-----rand()------\n",
      "0.08479533816050111\n",
      "----\n",
      "[[0.13409434 0.37143917]\n",
      " [0.89567935 0.488758  ]\n",
      " [0.69219938 0.16613224]]\n",
      "-----randint()------\n",
      "[6 7]\n",
      "----\n",
      "[[ 8 10]\n",
      " [ 6 11]\n",
      " [10  9]]\n",
      "-----choice()------\n",
      "[1 2 5 2 4 5 1 4 2 3]\n",
      "----\n",
      "[3 4 1]\n",
      "-----shuffle()------\n",
      "[1 3 2 4 5]\n"
     ]
    }
   ],
   "source": [
    "import numpy as np\n",
    "\n",
    "print(\"-----rand()------\")\n",
    "print(np.random.rand())    # Generage a single random number in range [0,1)\n",
    "print(\"----\")\n",
    "print(np.random.rand(3,2)) # Generate a matrix of random numbers in range [0,1) with shape (3,2)\n",
    "\n",
    "print(\"-----randint()------\")\n",
    "print(np.random.randint(5, 15, 2))\n",
    "print(\"----\")\n",
    "print(np.random.randint(5, 15, (3,2)))\n",
    "\n",
    "print(\"-----choice()------\")\n",
    "array = np.array([1,2,3,4,5]) \n",
    "print(np.random.choice(array, 10, replace=True)) # replace=True means the same value can be sampled more than once\n",
    "print(\"----\")\n",
    "print(np.random.choice(array, 3, replace=False)) # replace=False means the same value can’t be sampled more than once\n",
    "\n",
    "print(\"-----shuffle()------\")\n",
    "np.random.shuffle(array)\n",
    "print(array)"
   ]
  },
  {
   "cell_type": "markdown",
   "id": "exact-parish",
   "metadata": {},
   "source": [
    "## Scipy"
   ]
  },
  {
   "cell_type": "code",
   "execution_count": 3,
   "id": "finnish-aside",
   "metadata": {},
   "outputs": [
    {
     "name": "stdout",
     "output_type": "stream",
     "text": [
      "----- stats.pearsonr() => Correlation ------\n",
      "(0.9999999999999999, 1.8488927466117464e-32) \n",
      "\n",
      "----- Generating samples (des échantillons) ------\n",
      "[ -6.5672749    5.07770582   7.13420108  -2.79244994  12.9020118\n",
      "   1.65046179 -15.53955311   2.24221342  -2.53426133  12.16519682] \n",
      "\n",
      "----- Probability density function ------\n",
      "7.69459862670642e-24 0.03989422804014327 \n",
      "\n",
      "----- Cumulative distribution function ------\n",
      "0.5 \n",
      "\n",
      "----- Calculating descriptive statistics ------\n",
      "DescribeResult(nobs=500, minmax=(-2.8471299794510663, 3.046757161348687), mean=0.02742068076091738, variance=0.9106867296858975, skewness=0.0709527736970233, kurtosis=-0.2018059641073635)\n"
     ]
    }
   ],
   "source": [
    "from scipy import stats\n",
    "import numpy as np\n",
    "\n",
    "array_1 = np.array([1,2,3,4,5,6])\n",
    "array_2 = array_1\n",
    "\n",
    "print(\"----- stats.pearsonr() => Correlation ------\")\n",
    "print(stats.pearsonr(array_1, array_2), '\\n') # return (Correlation, p-value)\n",
    "\n",
    "print(\"----- Generating samples (des échantillons) ------\")\n",
    "# Generate 10 values randomly sampled from a normal distribution with mean = 0 and standard deviation (ecart-type) = 10\n",
    "x = stats.norm.rvs(loc=0, scale=10, size=10)  \n",
    "print(x, '\\n')\n",
    "\n",
    "print(\"----- Probability density function ------\")\n",
    "p1 = stats.norm.pdf(x=-100, loc=0, scale=10)  # Get probability of sampling a value of -100\n",
    "p2 = stats.norm.pdf(x=0, loc=0, scale=10)     # Get probability of sampling a value of 0\n",
    "print(p1, p2, '\\n')\n",
    "\n",
    "print(\"----- Cumulative distribution function ------\")\n",
    "p3 = stats.norm.cdf(x=0, loc=0, scale=10)     # Get probability of sampling a value less than or equal to 0\n",
    "print(p3, '\\n')\n",
    "\n",
    "print(\"----- Calculating descriptive statistics ------\")\n",
    "# Calculate descriptive statistics for 500 data points sampled from normal distribution with mean 0 and standard deviation of 1\n",
    "print(stats.describe(stats.norm.rvs(loc=0, scale=1, size=500)))"
   ]
  },
  {
   "cell_type": "markdown",
   "id": "freelance-fleet",
   "metadata": {},
   "source": [
    "## Pandas"
   ]
  },
  {
   "cell_type": "code",
   "execution_count": 4,
   "id": "smaller-connection",
   "metadata": {},
   "outputs": [
    {
     "name": "stdout",
     "output_type": "stream",
     "text": [
      "----- statistics on data ------\n",
      "count    32561.000000\n",
      "mean        38.581647\n",
      "std         13.640433\n",
      "min         17.000000\n",
      "25%         28.000000\n",
      "50%         37.000000\n",
      "75%         48.000000\n",
      "max         90.000000\n",
      "Name: age, dtype: float64 \n",
      "\n",
      "----- Finding the data types ------\n",
      "<class 'pandas.core.frame.DataFrame'>\n",
      "RangeIndex: 32561 entries, 0 to 32560\n",
      "Data columns (total 15 columns):\n",
      " #   Column         Non-Null Count  Dtype \n",
      "---  ------         --------------  ----- \n",
      " 0   age            32561 non-null  int64 \n",
      " 1   workclass      32561 non-null  object\n",
      " 2   fnlwgt         32561 non-null  int64 \n",
      " 3   education      32561 non-null  object\n",
      " 4   educationnum   32561 non-null  int64 \n",
      " 5   maritalstatus  32561 non-null  object\n",
      " 6   occupation     32561 non-null  object\n",
      " 7   relationship   32561 non-null  object\n",
      " 8   race           32561 non-null  object\n",
      " 9   sex            32561 non-null  object\n",
      " 10  capitalgain    32561 non-null  int64 \n",
      " 11  capitalloss    32561 non-null  int64 \n",
      " 12  hoursperweek   32561 non-null  int64 \n",
      " 13  nativecountry  32561 non-null  object\n",
      " 14  label          32561 non-null  object\n",
      "dtypes: int64(6), object(9)\n",
      "memory usage: 3.7+ MB\n",
      "None \n",
      "\n"
     ]
    }
   ],
   "source": [
    "import pandas as pd\n",
    "names = ['age', 'workclass', 'fnlwgt', 'education', 'educationnum', 'maritalstatus', 'occupation', 'relationship', 'race',\n",
    "        'sex', 'capitalgain', 'capitalloss', 'hoursperweek', 'nativecountry', 'label']\n",
    "train_df = pd.read_csv(\"Data/adult.data\", header=None, names=names)\n",
    "\n",
    "print(\"----- statistics on data ------\")\n",
    "print(train_df.describe()['age'], '\\n')\n",
    "\n",
    "print(\"----- Finding the data types ------\")\n",
    "print(train_df.info(), '\\n')"
   ]
  },
  {
   "cell_type": "code",
   "execution_count": 5,
   "id": "severe-sequence",
   "metadata": {},
   "outputs": [
    {
     "name": "stdout",
     "output_type": "stream",
     "text": [
      "----- Converting data types ------\n",
      "<class 'str'> \n",
      "\n",
      "----- Unique values ------\n",
      "[' Not-in-family' ' Husband' ' Wife' ' Own-child' ' Unmarried'\n",
      " ' Other-relative']\n",
      " Husband           13193\n",
      " Not-in-family      8305\n",
      " Own-child          5068\n",
      " Unmarried          3446\n",
      " Wife               1568\n",
      " Other-relative      981\n",
      "Name: relationship, dtype: int64 \n",
      "\n",
      "----- Grouping the data ------\n",
      "relationship     label \n",
      " Husband          <=50K    0.551429\n",
      "                  >50K     0.448571\n",
      " Not-in-family    <=50K    0.896930\n",
      "                  >50K     0.103070\n",
      " Other-relative   <=50K    0.962283\n",
      "                  >50K     0.037717\n",
      " Own-child        <=50K    0.986780\n",
      "                  >50K     0.013220\n",
      " Unmarried        <=50K    0.936738\n",
      "                  >50K     0.063262\n",
      " Wife             <=50K    0.524872\n",
      "                  >50K     0.475128\n",
      "Name: label, dtype: float64 \n",
      "\n",
      "workclass\n",
      " ?                   31.919390\n",
      " Federal-gov         41.379167\n",
      " Local-gov           40.982800\n",
      " Never-worked        28.428571\n",
      " Private             40.267096\n",
      " Self-emp-inc        48.818100\n",
      " Self-emp-not-inc    44.421881\n",
      " State-gov           39.031587\n",
      " Without-pay         32.714286\n",
      "Name: hoursperweek, dtype: float64 \n",
      "\n",
      "----- Finding the correlation ------\n",
      "                fnlwgt  educationnum  capitalgain  capitalloss  hoursperweek\n",
      "fnlwgt        1.000000     -0.043195     0.000432    -0.010252     -0.018768\n",
      "educationnum -0.043195      1.000000     0.122630     0.079923      0.148123\n",
      "capitalgain   0.000432      0.122630     1.000000    -0.031615      0.078409\n",
      "capitalloss  -0.010252      0.079923    -0.031615     1.000000      0.054256\n",
      "hoursperweek -0.018768      0.148123     0.078409     0.054256      1.000000\n"
     ]
    }
   ],
   "source": [
    "print(\"----- Converting data types ------\")\n",
    "# to_numeric()    to_datetime()    to_string()\n",
    "train_df['age'] = train_df['age'].astype(str)\n",
    "print(type(train_df['age'][0]), '\\n')\n",
    "\n",
    "print(\"----- Unique values ------\")\n",
    "print(train_df['relationship'].unique())\n",
    "print(train_df['relationship'].value_counts(), '\\n')\n",
    "\n",
    "print(\"----- Grouping the data ------\")\n",
    "print(train_df.groupby('relationship')['label'].value_counts(normalize=True), '\\n')\n",
    "print(train_df.groupby(['workclass'])['hoursperweek'].mean(), '\\n')\n",
    "\n",
    "print(\"----- Finding the correlation ------\")\n",
    "print(train_df.corr())"
   ]
  },
  {
   "cell_type": "code",
   "execution_count": 6,
   "id": "meaning-percentage",
   "metadata": {},
   "outputs": [
    {
     "name": "stdout",
     "output_type": "stream",
     "text": [
      "----- Pivot Table ------\n",
      "label                               <=50K   >50K\n",
      "relationship    workclass                       \n",
      " Husband         ?                  30.72  37.33\n",
      "                 Federal-gov        42.34  43.05\n",
      "                 Local-gov          41.40  44.56\n",
      "                 Private            42.50  46.18\n",
      "                 Self-emp-inc       48.29  50.49\n",
      "                 Self-emp-not-inc   46.01  48.07\n",
      "                 State-gov          38.67  45.17\n",
      "                 Without-pay        34.25    NaN\n",
      " Not-in-family   ?                  31.29  39.44\n",
      "                 Federal-gov        40.60  47.54\n",
      "                 Local-gov          40.38  45.01\n",
      "                 Never-worked       35.00    NaN\n",
      "                 Private            40.20  47.03\n",
      "                 Self-emp-inc       49.06  53.58\n",
      "                 Self-emp-not-inc   41.53  45.02\n",
      "                 State-gov          38.87  44.19\n",
      " Other-relative  ?                  29.10  40.00\n",
      "                 Federal-gov        38.40  45.00\n",
      "                 Local-gov          35.92  48.00\n",
      "                 Private            37.44  40.74\n",
      "                 Self-emp-inc       40.00  41.67\n",
      "                 Self-emp-not-inc   36.16  49.29\n",
      "                 State-gov          36.40  29.00\n",
      " Own-child       ?                  32.39  50.00\n",
      "                 Federal-gov        35.11    NaN\n",
      "                 Local-gov          35.59  41.25\n",
      "                 Never-worked       24.80    NaN\n",
      "                 Private            32.84  43.09\n",
      "                 Self-emp-inc       39.60  43.75\n",
      "                 Self-emp-not-inc   40.33  49.38\n",
      "                 State-gov          30.10  38.33\n",
      "                 Without-pay        35.00    NaN\n",
      " Unmarried       ?                  32.75  50.00\n",
      "                 Federal-gov        39.30  43.65\n",
      "                 Local-gov          40.09  45.79\n",
      "                 Private            38.64  45.70\n",
      "                 Self-emp-inc       45.74  58.11\n",
      "                 Self-emp-not-inc   40.62  47.81\n",
      "                 State-gov          38.15  44.56\n",
      "                 Without-pay        37.50    NaN\n",
      " Wife            ?                  28.29  29.72\n",
      "                 Federal-gov        38.93  39.74\n",
      "                 Local-gov          37.87  40.38\n",
      "                 Never-worked       40.00    NaN\n",
      "                 Private            36.56  38.31\n",
      "                 Self-emp-inc       44.67  38.14\n",
      "                 Self-emp-not-inc   36.53  34.61\n",
      "                 State-gov          36.50  39.10\n",
      "                 Without-pay        23.67    NaN\n"
     ]
    }
   ],
   "source": [
    "print(\"----- Pivot Table ------\")\n",
    "print(pd.pivot_table(train_df, values='hoursperweek', index=['relationship','workclass'], \n",
    "               columns=['label'], aggfunc=np.mean).round(2))"
   ]
  },
  {
   "cell_type": "code",
   "execution_count": 7,
   "id": "persistent-interaction",
   "metadata": {},
   "outputs": [
    {
     "name": "stdout",
     "output_type": "stream",
     "text": [
      "----- Cross Tab ------\n",
      "label             <=50K   >50K\n",
      "relationship                  \n",
      " Husband           7275   5918\n",
      " Not-in-family     7449    856\n",
      " Other-relative     944     37\n",
      " Own-child         5001     67\n",
      " Unmarried         3228    218\n",
      " Wife               823    745\n"
     ]
    }
   ],
   "source": [
    "print(\"----- Cross Tab ------\")\n",
    "# Calculate the frequencies between label and relationship\n",
    "print(pd.crosstab(train_df.relationship, train_df['label'], normalize=False))"
   ]
  },
  {
   "cell_type": "code",
   "execution_count": 8,
   "id": "extraordinary-arbitration",
   "metadata": {},
   "outputs": [
    {
     "name": "stdout",
     "output_type": "stream",
     "text": [
      "----- Create long dataframe ------\n",
      "         date variable     value\n",
      "0  2000-01-03        A  0.129016\n",
      "1  2000-01-04        A  0.207200\n",
      "2  2000-01-05        A  1.245801\n",
      "3  2000-01-03        B  0.282468\n",
      "4  2000-01-04        B  0.347059\n",
      "5  2000-01-05        B -0.002431\n",
      "6  2000-01-03        C  0.769712\n",
      "7  2000-01-04        C  0.497418\n",
      "8  2000-01-05        C -1.944693\n",
      "9  2000-01-03        D -0.417650\n",
      "10 2000-01-04        D  0.083522\n",
      "11 2000-01-05        D -1.215114 \n",
      "\n",
      "----- Pivot ------\n",
      "variable           A         B         C         D\n",
      "date                                              \n",
      "2000-01-03  0.129016  0.282468  0.769712 -0.417650\n",
      "2000-01-04  0.207200  0.347059  0.497418  0.083522\n",
      "2000-01-05  1.245801 -0.002431 -1.944693 -1.215114 \n",
      "\n",
      "----- Unpivot ------\n",
      "variable  date      \n",
      "A         2000-01-03    0.129016\n",
      "          2000-01-04    0.207200\n",
      "          2000-01-05    1.245801\n",
      "B         2000-01-03    0.282468\n",
      "          2000-01-04    0.347059\n",
      "          2000-01-05   -0.002431\n",
      "C         2000-01-03    0.769712\n",
      "          2000-01-04    0.497418\n",
      "          2000-01-05   -1.944693\n",
      "D         2000-01-03   -0.417650\n",
      "          2000-01-04    0.083522\n",
      "          2000-01-05   -1.215114\n",
      "dtype: float64\n"
     ]
    },
    {
     "name": "stderr",
     "output_type": "stream",
     "text": [
      "C:\\Users\\Utilisateur\\Anaconda3\\lib\\site-packages\\ipykernel_launcher.py:1: FutureWarning: pandas.util.testing is deprecated. Use the functions in the public API at pandas.testing instead.\n",
      "  \"\"\"Entry point for launching an IPython kernel.\n"
     ]
    }
   ],
   "source": [
    "import pandas.util.testing as tm\n",
    "import numpy as np\n",
    "import pandas as pd\n",
    "\n",
    "print(\"----- Create long dataframe ------\")\n",
    "def unpivot(frame):\n",
    "    N, K = frame.shape\n",
    "    data = {'date' : np.tile(np.asarray(frame.index), K),      # repeat indexes K times\n",
    "            'variable' : np.asarray(frame.columns).repeat(N),  # repeat columns N times\n",
    "            'value' : frame.values.ravel('F')\n",
    "            }\n",
    "    return pd.DataFrame(data)\n",
    "\n",
    "df = unpivot(tm.makeTimeDataFrame(3))\n",
    "print(df, '\\n')\n",
    "\n",
    "print(\"----- Pivot ------\")\n",
    "df_pivot = df.pivot(index='date', columns='variable', values='value')\n",
    "print(df_pivot, '\\n')\n",
    "\n",
    "print(\"----- Unpivot ------\")\n",
    "print(df_pivot.unstack())"
   ]
  }
 ],
 "metadata": {
  "kernelspec": {
   "display_name": "Python 3",
   "language": "python",
   "name": "python3"
  },
  "language_info": {
   "codemirror_mode": {
    "name": "ipython",
    "version": 3
   },
   "file_extension": ".py",
   "mimetype": "text/x-python",
   "name": "python",
   "nbconvert_exporter": "python",
   "pygments_lexer": "ipython3",
   "version": "3.7.4"
  }
 },
 "nbformat": 4,
 "nbformat_minor": 5
}
