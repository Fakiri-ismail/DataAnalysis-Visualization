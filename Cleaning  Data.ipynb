{
 "cells": [
  {
   "cell_type": "markdown",
   "id": "competent-graduation",
   "metadata": {},
   "source": [
    "# Cleaning Data"
   ]
  },
  {
   "cell_type": "markdown",
   "id": "foster-locking",
   "metadata": {},
   "source": [
    "## 1. Missing data"
   ]
  },
  {
   "cell_type": "markdown",
   "id": "broad-mustang",
   "metadata": {},
   "source": [
    "### a - Filling (Remplir) missing data"
   ]
  },
  {
   "cell_type": "markdown",
   "id": "ceramic-california",
   "metadata": {},
   "source": [
    "Fill in a column’s missing values with a **statistical value** such as the **mean, median, or mode** OR \n",
    "**Using a model** to learn values that seem reasonable for missing values :  **K-Nearest Neighbors**"
   ]
  },
  {
   "cell_type": "code",
   "execution_count": 1,
   "id": "constitutional-clinton",
   "metadata": {},
   "outputs": [
    {
     "name": "stdout",
     "output_type": "stream",
     "text": [
      "Average of non-missing values: 20.833333333333332\n",
      "0     5.000000\n",
      "1    10.000000\n",
      "2    20.833333\n",
      "3    15.000000\n",
      "4    20.000000\n",
      "5    20.833333\n",
      "6    25.000000\n",
      "7    50.000000\n",
      "8    20.833333\n",
      "dtype: float64\n"
     ]
    }
   ],
   "source": [
    "import numpy as np\n",
    "import pandas as pd\n",
    "pd_series = pd.Series([5, 10, np.nan, 15, 20, np.nan, 25, 50, np.nan])\n",
    "print(f\"Average of non-missing values: {pd_series.mean()}\")\n",
    "pd_series = pd_series.fillna(pd_series.mean())\n",
    "print(pd_series)"
   ]
  },
  {
   "cell_type": "markdown",
   "id": "informative-sword",
   "metadata": {},
   "source": [
    "### b - Dropping missing data"
   ]
  },
  {
   "cell_type": "code",
   "execution_count": 2,
   "id": "rural-regression",
   "metadata": {},
   "outputs": [
    {
     "name": "stdout",
     "output_type": "stream",
     "text": [
      "0     5.0\n",
      "1    10.0\n",
      "3    15.0\n",
      "4    20.0\n",
      "6    25.0\n",
      "7    50.0\n",
      "dtype: float64\n"
     ]
    }
   ],
   "source": [
    "pd_series = pd.Series([5, 10, np.nan, 15, 20, np.nan, 25, 50, np.nan])\n",
    "pd_series = pd_series.dropna()\n",
    "print(pd_series)"
   ]
  },
  {
   "cell_type": "markdown",
   "id": "three-darkness",
   "metadata": {},
   "source": [
    "## 2. Outlier"
   ]
  },
  {
   "cell_type": "markdown",
   "id": "informational-numbers",
   "metadata": {},
   "source": [
    "Here is a post that deals with some more advanced ways of detecting outlier : https://www.kdnuggets.com/2017/01/3-methods-deal-outliers.html"
   ]
  },
  {
   "cell_type": "code",
   "execution_count": 3,
   "id": "sudden-activation",
   "metadata": {},
   "outputs": [],
   "source": [
    "names = ['age', 'workclass', 'fnlwgt', 'education', 'educationnum', 'maritalstatus', 'occupation', 'relationship', 'race',\n",
    "        'sex', 'capitalgain', 'capitalloss', 'hoursperweek', 'nativecountry', 'label']\n",
    "train_df = pd.read_csv(\"Data/adult.data\", header=None, names=names)"
   ]
  },
  {
   "cell_type": "code",
   "execution_count": 4,
   "id": "increasing-pledge",
   "metadata": {},
   "outputs": [
    {
     "data": {
      "text/plain": [
       "<AxesSubplot:>"
      ]
     },
     "execution_count": 4,
     "metadata": {},
     "output_type": "execute_result"
    },
    {
     "data": {
      "image/png": "[encoded data removed]",
      "text/plain": [
       "<Figure size 432x288 with 1 Axes>"
      ]
     },
     "metadata": {
      "needs_background": "light"
     },
     "output_type": "display_data"
    }
   ],
   "source": [
    "train_df['hoursperweek'].plot(kind=\"box\")"
   ]
  },
  {
   "cell_type": "markdown",
   "id": "legislative-thumbnail",
   "metadata": {},
   "source": [
    "## 3. Scaling"
   ]
  },
  {
   "cell_type": "markdown",
   "id": "requested-allergy",
   "metadata": {},
   "source": [
    "Having income values that range from 100 to 100,000 and ages that range from 0 to 100 can cause issues because of the large difference in scale of these two data columns"
   ]
  },
  {
   "cell_type": "markdown",
   "id": "unable-cable",
   "metadata": {},
   "source": [
    "### a - Standard scaling (subtracts the mean and divides by the standard deviation)"
   ]
  },
  {
   "cell_type": "code",
   "execution_count": 5,
   "id": "gross-henry",
   "metadata": {},
   "outputs": [
    {
     "name": "stdout",
     "output_type": "stream",
     "text": [
      "Before Standard scaling\n",
      "[-0.125  9.     8.   ]\n",
      "[0.73950997 5.91607978 3.53553391]\n",
      "\n",
      "After Standard scaling\n",
      "[0. 0. 0.]\n",
      "[1. 1. 1.]\n"
     ]
    }
   ],
   "source": [
    "from sklearn.preprocessing import StandardScaler\n",
    "import numpy as np\n",
    "\n",
    "# Create a matrix of data\n",
    "data = [[-1, 2, 5], \n",
    "        [-0.5, 6, 11], \n",
    "        [0, 10, 12], \n",
    "        [1, 18, 4]]\n",
    "\n",
    "print(\"Before Standard scaling\")\n",
    "print(np.mean(data, 0))     # 0 for columns & 1 for rows\n",
    "print(np.std(data, 0))\n",
    "print()\n",
    "# Initalize a StandardScaler\n",
    "standard = StandardScaler()\n",
    "# Fit and transform the data with the StandardScaler\n",
    "standard_data = standard.fit_transform(data)\n",
    "\n",
    "print(\"After Standard scaling\")\n",
    "print(np.mean(standard_data, 0))\n",
    "print(np.std(standard_data, 0))"
   ]
  },
  {
   "cell_type": "markdown",
   "id": "global-stake",
   "metadata": {},
   "source": [
    "### b - Min/Max scaling"
   ]
  },
  {
   "cell_type": "markdown",
   "id": "allied-aurora",
   "metadata": {},
   "source": [
    "**the MinMaxScaler()** scales each column to have a min value of **0** and a max value of **1**."
   ]
  },
  {
   "cell_type": "code",
   "execution_count": 6,
   "id": "vital-substance",
   "metadata": {},
   "outputs": [
    {
     "name": "stdout",
     "output_type": "stream",
     "text": [
      "[0. 0. 0.]\n",
      "[1. 1. 1.]\n",
      "[0.4375 0.4375 0.5   ]\n",
      "[0.36975499 0.36975499 0.44194174]\n"
     ]
    }
   ],
   "source": [
    "from sklearn.preprocessing import MinMaxScaler\n",
    "\n",
    "# Initalize MinMaxScaler\n",
    "min_max = MinMaxScaler()\n",
    "# Fit and transform the data\n",
    "min_max_data = min_max.fit_transform(data)\n",
    "\n",
    "print(np.min(min_max_data, 0))\n",
    "print(np.max(min_max_data, 0))\n",
    "print(np.mean(min_max_data, 0))\n",
    "print(np.std(min_max_data, 0))"
   ]
  },
  {
   "cell_type": "markdown",
   "id": "excellent-arizona",
   "metadata": {},
   "source": [
    "## 4. Categorical Data"
   ]
  },
  {
   "cell_type": "markdown",
   "id": "standard-formation",
   "metadata": {},
   "source": [
    "### a - Label encoding"
   ]
  },
  {
   "cell_type": "markdown",
   "id": "assisted-portugal",
   "metadata": {},
   "source": [
    "Label encoding works by converting the unique values to a numeric representation. For example, if we have two categories male and female, we can categorize them as numbers: **male as 0** and **female 1**"
   ]
  },
  {
   "cell_type": "code",
   "execution_count": 7,
   "id": "engaged-artwork",
   "metadata": {},
   "outputs": [
    {
     "name": "stdout",
     "output_type": "stream",
     "text": [
      "0    1\n",
      "1    0\n",
      "2    1\n",
      "3    0\n",
      "dtype: int8\n",
      "Index(['female', 'male'], dtype='object')\n"
     ]
    }
   ],
   "source": [
    "# Create series with male and female values\n",
    "non_categorical_series = pd.Series(['male', 'female', 'male', 'female'])\n",
    "# Convert the text series to a categorical series\n",
    "categorical_series = non_categorical_series.astype('category')\n",
    "# Print the numeric codes for each value\n",
    "print(categorical_series.cat.codes)\n",
    "# Print the category names\n",
    "print(categorical_series.cat.categories)"
   ]
  },
  {
   "cell_type": "markdown",
   "id": "quick-virtue",
   "metadata": {},
   "source": [
    "### b - One-hot encoding (dummy variables)"
   ]
  },
  {
   "cell_type": "markdown",
   "id": "advanced-broadcasting",
   "metadata": {},
   "source": [
    "One-hot encoding is similar but creates a **new column for each category** and fills it with a **1** for each row **with** that value and **zero** otherwise"
   ]
  },
  {
   "cell_type": "code",
   "execution_count": 8,
   "id": "proved-contest",
   "metadata": {},
   "outputs": [
    {
     "name": "stdout",
     "output_type": "stream",
     "text": [
      "   female  male\n",
      "0       0     1\n",
      "1       1     0\n",
      "2       0     1\n",
      "3       1     0\n"
     ]
    }
   ],
   "source": [
    "# Create series with male and female values\n",
    "non_categorical_series = pd.Series(['male', 'female', 'male', 'female'])\n",
    "# Create dummy or one-hot encoded variables\n",
    "print(pd.get_dummies(non_categorical_series))"
   ]
  }
 ],
 "metadata": {
  "kernelspec": {
   "display_name": "Python 3",
   "language": "python",
   "name": "python3"
  },
  "language_info": {
   "codemirror_mode": {
    "name": "ipython",
    "version": 3
   },
   "file_extension": ".py",
   "mimetype": "text/x-python",
   "name": "python",
   "nbconvert_exporter": "python",
   "pygments_lexer": "ipython3",
   "version": "3.7.4"
  }
 },
 "nbformat": 4,
 "nbformat_minor": 5
}
